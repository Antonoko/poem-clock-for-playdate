{
 "cells": [
  {
   "cell_type": "code",
   "execution_count": 1,
   "metadata": {},
   "outputs": [],
   "source": [
    "TIME_DATA_JSON = 'time_data_en.json'"
   ]
  },
  {
   "cell_type": "code",
   "execution_count": 2,
   "metadata": {},
   "outputs": [],
   "source": [
    "import json\n",
    "\n",
    "def read_json_file(file_name: str):\n",
    "    with open(file_name, 'r', encoding=\"utf-8\") as file:\n",
    "        data = json.load(file)\n",
    "    return data\n",
    "\n",
    "def write_dict_to_json(file_path, data):\n",
    "    with open(file_path, 'w', encoding='utf-8') as f:\n",
    "        json.dump(data, f, ensure_ascii=False, indent=4)"
   ]
  },
  {
   "cell_type": "code",
   "execution_count": 4,
   "metadata": {},
   "outputs": [],
   "source": [
    "# 数据排序\n",
    "input_dict = read_json_file(TIME_DATA_JSON)\n",
    "sort_dict = {}\n",
    "\n",
    "for hour in range(0,24):\n",
    "    for minute in range(0,60):\n",
    "        if minute < 10: \n",
    "            minute = \"0\" + str(minute)\n",
    "        time_str = f\"{hour}:{minute}\"\n",
    "        sort_dict[time_str] = input_dict[time_str]\n",
    "\n",
    "write_dict_to_json(\"time_data_en_sorted.json\", sort_dict)"
   ]
  },
  {
   "cell_type": "code",
   "execution_count": 6,
   "metadata": {},
   "outputs": [],
   "source": [
    "# 数据格式化-en\n",
    "sort_dict = read_json_file(\"time_data_en_sorted.json\")\n",
    "format_dict = {}\n",
    "\n",
    "for key, value in sort_dict.items():\n",
    "    value = value.replace(\"\\\"\", \"\")\n",
    "    res_list = value.split(\"\\n\\n\")\n",
    "    format_dict[key] = res_list\n",
    "\n",
    "write_dict_to_json(\"time_data_en_format.json\", format_dict)\n",
    "\n"
   ]
  },
  {
   "cell_type": "code",
   "execution_count": null,
   "metadata": {},
   "outputs": [],
   "source": [
    "# 数据格式化-sc\n",
    "sort_dict = read_json_file(\"time_data_sorted.json\")\n",
    "format_dict = {}\n",
    "\n",
    "for key, value in sort_dict.items():\n",
    "    value = value.replace(\"1. \",\"\").replace(\"2. \",\"\").replace(\"3. \",\"\").replace(\"4. \",\"\").replace(\"5. \",\"\")\n",
    "    value = value.replace(\"1.\",\"\").replace(\"2.\",\"\").replace(\"3.\",\"\").replace(\"4.\",\"\").replace(\"5.\",\"\")\n",
    "    value = value.replace(\"\\n\\n\", \"\\n\")\n",
    "    res_list = value.split(\"\\n\")\n",
    "    format_dict[key] = res_list\n",
    "\n",
    "write_dict_to_json(\"time_data_format.json\", format_dict)\n",
    "\n"
   ]
  }
 ],
 "metadata": {
  "kernelspec": {
   "display_name": "Python 3",
   "language": "python",
   "name": "python3"
  },
  "language_info": {
   "codemirror_mode": {
    "name": "ipython",
    "version": 3
   },
   "file_extension": ".py",
   "mimetype": "text/x-python",
   "name": "python",
   "nbconvert_exporter": "python",
   "pygments_lexer": "ipython3",
   "version": "3.11.8"
  }
 },
 "nbformat": 4,
 "nbformat_minor": 2
}
