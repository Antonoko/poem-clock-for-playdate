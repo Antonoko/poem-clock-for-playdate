{
 "cells": [
  {
   "cell_type": "code",
   "execution_count": 9,
   "metadata": {},
   "outputs": [],
   "source": [
    "TIME_DATA_JSON = 'time_data.json'"
   ]
  },
  {
   "cell_type": "code",
   "execution_count": 10,
   "metadata": {},
   "outputs": [
    {
     "name": "stdout",
     "output_type": "stream",
     "text": [
      "{'space_id': '7295668070847102994', 'bot_id': '7347955889028202514', 'api_key': 'u7yf5zGfvyQiYoIR5kdxNi4C55s2ov4BFQUgAax7Uhtmz8vcAkrMwL6jbtIeCpGq'}\n"
     ]
    }
   ],
   "source": [
    "# 读取配置\n",
    "import json\n",
    "\n",
    "def read_json_file(file_name: str):\n",
    "    with open(file_name, 'r', encoding=\"utf-8\") as file:\n",
    "        data = json.load(file)\n",
    "    return data\n",
    "\n",
    "def write_dict_to_json(file_path, data):\n",
    "    with open(file_path, 'w', encoding='utf-8') as f:\n",
    "        json.dump(data, f, ensure_ascii=False, indent=4)\n",
    "\n",
    "coze_config = read_json_file('config-coze.json')\n",
    "print(coze_config)"
   ]
  },
  {
   "cell_type": "code",
   "execution_count": 11,
   "metadata": {},
   "outputs": [],
   "source": [
    "import requests\n",
    "import json\n",
    "\n",
    "def post_to_chat_API(query):\n",
    "    headers = {\n",
    "        'Authorization': f'Bearer {coze_config[\"api_key\"]}',\n",
    "        'Content-Type': 'application/json',\n",
    "        'Accept': '*/*',\n",
    "        'Host': 'api.coze.com',\n",
    "        'Connection': 'keep-alive'\n",
    "    }\n",
    "\n",
    "    data = {\n",
    "        \"bot_id\": f\"{coze_config['bot_id']}\",\n",
    "        \"user\": \"1145141919810\",\n",
    "        \"query\": query,\n",
    "        \"stream\": False\n",
    "    }\n",
    "\n",
    "    response = requests.post('https://api.coze.com/open_api/v2/chat', headers=headers, data=json.dumps(data))\n",
    "    \n",
    "    return response"
   ]
  },
  {
   "cell_type": "code",
   "execution_count": 12,
   "metadata": {},
   "outputs": [],
   "source": [
    "import time\n",
    "\n",
    "res_dict = read_json_file(TIME_DATA_JSON)\n",
    "for i in range(0,3):   # retry\n",
    "    for hour in range(0,24):\n",
    "        for minute in range(0,60):\n",
    "            if minute < 10: \n",
    "                minute = \"0\" + str(minute)\n",
    "            time_str = f\"{hour}:{minute}\"\n",
    "            if time_str in res_dict.keys():\n",
    "                continue\n",
    "\n",
    "            print(time_str)\n",
    "            try:\n",
    "                LLM_response = json.loads(post_to_chat_API(time_str).content)\n",
    "                res_dict[time_str] = LLM_response['messages'][0]['content']\n",
    "                print(res_dict[time_str])\n",
    "                write_dict_to_json(TIME_DATA_JSON, res_dict)\n",
    "            except Exception as e:\n",
    "                print(e)\n",
    "            time.sleep(3)\n"
   ]
  }
 ],
 "metadata": {
  "kernelspec": {
   "display_name": "Python 3",
   "language": "python",
   "name": "python3"
  },
  "language_info": {
   "codemirror_mode": {
    "name": "ipython",
    "version": 3
   },
   "file_extension": ".py",
   "mimetype": "text/x-python",
   "name": "python",
   "nbconvert_exporter": "python",
   "pygments_lexer": "ipython3",
   "version": "3.10.8"
  }
 },
 "nbformat": 4,
 "nbformat_minor": 2
}
